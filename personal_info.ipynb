{
  "nbformat": 4,
  "nbformat_minor": 0,
  "metadata": {
    "colab": {
      "name": "personal_info",
      "provenance": [],
      "collapsed_sections": [],
      "authorship_tag": "ABX9TyMlV/pSodHzB2nKUoPxwPdU",
      "include_colab_link": true
    },
    "kernelspec": {
      "name": "python3",
      "display_name": "Python 3"
    },
    "language_info": {
      "name": "python"
    }
  },
  "cells": [
    {
      "cell_type": "markdown",
      "metadata": {
        "id": "view-in-github",
        "colab_type": "text"
      },
      "source": [
        "<a href=\"https://colab.research.google.com/github/12honan/projects2/blob/main/personal_info.ipynb\" target=\"_parent\"><img src=\"https://colab.research.google.com/assets/colab-badge.svg\" alt=\"Open In Colab\"/></a>"
      ]
    },
    {
      "cell_type": "code",
      "metadata": {
        "colab": {
          "base_uri": "https://localhost:8080/"
        },
        "id": "551oXrlBmef7",
        "outputId": "03d38f07-179b-4b35-aa03-d85962ccbbeb"
      },
      "source": [
        "name = \"RHONAN RICHMOND D. BANGAY\"\n",
        "age = \"20\"\n",
        "address = \"Blk 4, Lot 2 Villa Corazon Subd, Mataas na Lupa, Indang, Cavite\"\n",
        "print(\"Name: {}\\nAge: {}\\nAddress: {}\".format(name, age, address))\n"
      ],
      "execution_count": 1,
      "outputs": [
        {
          "output_type": "stream",
          "name": "stdout",
          "text": [
            "Name: RHONAN RICHMOND D. BANGAY\n",
            "Age: 20\n",
            "Address: Blk 4, Lot 2 Villa Corazon Subd, Mataas na Lupa, Indang, Cavite\n"
          ]
        }
      ]
    },
    {
      "cell_type": "code",
      "metadata": {
        "colab": {
          "base_uri": "https://localhost:8080/"
        },
        "id": "mpvvLU2I0_6G",
        "outputId": "0af47087-594e-4e13-cb5a-080da4a2bef1"
      },
      "source": [
        "a = [1,2,3,4,5]\n",
        "for aw in a:\n",
        "    print(aw)"
      ],
      "execution_count": 2,
      "outputs": [
        {
          "output_type": "stream",
          "name": "stdout",
          "text": [
            "1\n",
            "2\n",
            "3\n",
            "4\n",
            "5\n"
          ]
        }
      ]
    },
    {
      "cell_type": "code",
      "metadata": {
        "colab": {
          "base_uri": "https://localhost:8080/"
        },
        "id": "UtUdls0YHuji",
        "outputId": "63a50cd8-3601-45e7-a364-d729cda36430"
      },
      "source": [
        "n=3\n",
        "i = 1\n",
        "while i <= n:\n",
        "  print(\"ako si rhonan\")\n",
        "  i = i+1"
      ],
      "execution_count": null,
      "outputs": [
        {
          "output_type": "stream",
          "name": "stdout",
          "text": [
            "ako si rhonan\n",
            "ako si rhonan\n",
            "ako si rhonan\n"
          ]
        }
      ]
    },
    {
      "cell_type": "code",
      "metadata": {
        "colab": {
          "base_uri": "https://localhost:8080/"
        },
        "id": "pBsbFG1Wmmdo",
        "outputId": "58b616e8-b3f2-4933-feb6-329043435b76"
      },
      "source": [
        "personal_info =[\"Name: RHONAN RICHMOND D. BANGAY\" , \"Age: 20\" , \"Address: Blk 4, Lot 2 Villa Corazon Subd, Mataas na Lupa, Indang, Cavite\"]\n",
        "for information in personal_info:\n",
        "  print(information)\n"
      ],
      "execution_count": null,
      "outputs": [
        {
          "output_type": "stream",
          "name": "stdout",
          "text": [
            "Name: RHONAN RICHMOND D. BANGAY\n",
            "Age: 20\n",
            "Address: Blk 4, Lot 2 Villa Corazon Subd, Mataas na Lupa, Indang, Cavite\n"
          ]
        }
      ]
    },
    {
      "cell_type": "code",
      "metadata": {
        "colab": {
          "base_uri": "https://localhost:8080/"
        },
        "id": "AOia1rxu3X6q",
        "outputId": "7e4e02dd-47d1-4a7c-a3aa-ec38878a4317"
      },
      "source": [
        "def information():\n",
        "  name = \"RHONAN RICHMOND D. BANGAY\"\n",
        "  age = \"20\"\n",
        "  address = \"Blk 4, Lot 2 Villa Corazon Subd, Mataas na Lupa, Indang, Cavite\"\n",
        "  print(\"Name: {}\\nAge: {}\\nAddress: {}\".format(name, age, address))\n",
        "information()\n"
      ],
      "execution_count": null,
      "outputs": [
        {
          "output_type": "stream",
          "name": "stdout",
          "text": [
            "Name: RHONAN RICHMOND D. BANGAY\n",
            "Age: 20\n",
            "Address: Blk 4, Lot 2 Villa Corazon Subd, Mataas na Lupa, Indang, Cavite\n"
          ]
        }
      ]
    },
    {
      "cell_type": "code",
      "metadata": {
        "colab": {
          "base_uri": "https://localhost:8080/"
        },
        "id": "gJmFrysdHZ2v",
        "outputId": "8a6df1bb-c18c-4791-f0f7-723b6fabc335"
      },
      "source": [
        "#program that ask the users to type their personal info\n",
        "Name = input(\"Input your Name: \")\n",
        "age = input(\"Input your Age: \")\n",
        "address = input(\"Input your Address: \")\n",
        "print(\"Name: \"+ Name + \"\\nAge: \" + age + \"\\nAddress: \"+ address)"
      ],
      "execution_count": null,
      "outputs": [
        {
          "output_type": "stream",
          "name": "stdout",
          "text": [
            "Input your Name: Rhonan Richmond D. Bangay\n",
            "Input your Age: 20\n",
            "Input your Address: Mataas na Lupa, Indang Cavite\n",
            "Name: Rhonan Richmond D. Bangay\n",
            "Age: 20\n",
            "Address: Mataas na Lupa, Indang Cavite\n"
          ]
        }
      ]
    },
    {
      "cell_type": "code",
      "metadata": {
        "colab": {
          "base_uri": "https://localhost:8080/"
        },
        "id": "6ZTmGJzAH7DL",
        "outputId": "7b116aaa-7f2d-4bbc-c04f-c900aae5cefb"
      },
      "source": [
        "#TO DISPLAY THE CURRENT DATE\n",
        "import datetime\n",
        "now = datetime.datetime.now()\n",
        "print(\"Time today is: \")\n",
        "print(now.strftime(\"%y-%m-%d %H:%M:%S\"))"
      ],
      "execution_count": null,
      "outputs": [
        {
          "output_type": "stream",
          "name": "stdout",
          "text": [
            "Time today is: \n",
            "21-11-09 05:19:13\n"
          ]
        }
      ]
    },
    {
      "cell_type": "code",
      "metadata": {
        "colab": {
          "base_uri": "https://localhost:8080/",
          "height": 299
        },
        "id": "DhLEL_A1g8bl",
        "outputId": "aa59efcf-8e15-4004-882c-09797ea4347e"
      },
      "source": [
        "def repeat1(aaa):\n",
        "    wala = aaa[0]\n",
        "    meron = aaa[0]\n",
        "\n",
        "    while (2):\n",
        "        wala = aaa[wala]\n",
        "        meron = aaa[aaa[wala]]\n",
        "        if (wala == meron):\n",
        "            break\n",
        "    wala = aaa[0]\n",
        "\n",
        "    while (wala != meron):\n",
        "        wala = aaa[wala]\n",
        "        meron = aaa[meron]\n",
        "print(repeat1([1,2,3,2,5]))"
      ],
      "execution_count": null,
      "outputs": [
        {
          "output_type": "error",
          "ename": "KeyboardInterrupt",
          "evalue": "ignored",
          "traceback": [
            "\u001b[0;31m---------------------------------------------------------------------------\u001b[0m",
            "\u001b[0;31mKeyboardInterrupt\u001b[0m                         Traceback (most recent call last)",
            "\u001b[0;32m<ipython-input-1-2cc783f77f1f>\u001b[0m in \u001b[0;36m<module>\u001b[0;34m()\u001b[0m\n\u001b[1;32m     13\u001b[0m         \u001b[0mwala\u001b[0m \u001b[0;34m=\u001b[0m \u001b[0maaa\u001b[0m\u001b[0;34m[\u001b[0m\u001b[0mwala\u001b[0m\u001b[0;34m]\u001b[0m\u001b[0;34m\u001b[0m\u001b[0;34m\u001b[0m\u001b[0m\n\u001b[1;32m     14\u001b[0m         \u001b[0mmeron\u001b[0m \u001b[0;34m=\u001b[0m \u001b[0maaa\u001b[0m\u001b[0;34m[\u001b[0m\u001b[0mmeron\u001b[0m\u001b[0;34m]\u001b[0m\u001b[0;34m\u001b[0m\u001b[0;34m\u001b[0m\u001b[0m\n\u001b[0;32m---> 15\u001b[0;31m \u001b[0mprint\u001b[0m\u001b[0;34m(\u001b[0m\u001b[0mrepeat1\u001b[0m\u001b[0;34m(\u001b[0m\u001b[0;34m[\u001b[0m\u001b[0;36m1\u001b[0m\u001b[0;34m,\u001b[0m\u001b[0;36m2\u001b[0m\u001b[0;34m,\u001b[0m\u001b[0;36m3\u001b[0m\u001b[0;34m,\u001b[0m\u001b[0;36m2\u001b[0m\u001b[0;34m,\u001b[0m\u001b[0;36m5\u001b[0m\u001b[0;34m]\u001b[0m\u001b[0;34m)\u001b[0m\u001b[0;34m)\u001b[0m\u001b[0;34m\u001b[0m\u001b[0;34m\u001b[0m\u001b[0m\n\u001b[0m",
            "\u001b[0;32m<ipython-input-1-2cc783f77f1f>\u001b[0m in \u001b[0;36mrepeat1\u001b[0;34m(aaa)\u001b[0m\n\u001b[1;32m     12\u001b[0m     \u001b[0;32mwhile\u001b[0m \u001b[0;34m(\u001b[0m\u001b[0mwala\u001b[0m \u001b[0;34m!=\u001b[0m \u001b[0mmeron\u001b[0m\u001b[0;34m)\u001b[0m\u001b[0;34m:\u001b[0m\u001b[0;34m\u001b[0m\u001b[0;34m\u001b[0m\u001b[0m\n\u001b[1;32m     13\u001b[0m         \u001b[0mwala\u001b[0m \u001b[0;34m=\u001b[0m \u001b[0maaa\u001b[0m\u001b[0;34m[\u001b[0m\u001b[0mwala\u001b[0m\u001b[0;34m]\u001b[0m\u001b[0;34m\u001b[0m\u001b[0;34m\u001b[0m\u001b[0m\n\u001b[0;32m---> 14\u001b[0;31m         \u001b[0mmeron\u001b[0m \u001b[0;34m=\u001b[0m \u001b[0maaa\u001b[0m\u001b[0;34m[\u001b[0m\u001b[0mmeron\u001b[0m\u001b[0;34m]\u001b[0m\u001b[0;34m\u001b[0m\u001b[0;34m\u001b[0m\u001b[0m\n\u001b[0m\u001b[1;32m     15\u001b[0m \u001b[0mprint\u001b[0m\u001b[0;34m(\u001b[0m\u001b[0mrepeat1\u001b[0m\u001b[0;34m(\u001b[0m\u001b[0;34m[\u001b[0m\u001b[0;36m1\u001b[0m\u001b[0;34m,\u001b[0m\u001b[0;36m2\u001b[0m\u001b[0;34m,\u001b[0m\u001b[0;36m3\u001b[0m\u001b[0;34m,\u001b[0m\u001b[0;36m2\u001b[0m\u001b[0;34m,\u001b[0m\u001b[0;36m5\u001b[0m\u001b[0;34m]\u001b[0m\u001b[0;34m)\u001b[0m\u001b[0;34m)\u001b[0m\u001b[0;34m\u001b[0m\u001b[0;34m\u001b[0m\u001b[0m\n",
            "\u001b[0;31mKeyboardInterrupt\u001b[0m: "
          ]
        }
      ]
    },
    {
      "cell_type": "code",
      "metadata": {
        "colab": {
          "base_uri": "https://localhost:8080/"
        },
        "id": "n3b3a6M4iFzV",
        "outputId": "7306ef01-759a-46ab-98ca-2e17487152be"
      },
      "source": [
        "arr = [1, 2, 3, 4, 2, 7, 8, 8, 3];      \n",
        "#Searches for duplicate element    \n",
        "for i in range(0, len(arr)):    \n",
        "    for j in range(i+1, len(arr)):    \n",
        "        if(arr[i] == arr[j]):    \n",
        "            print(arr[j]);  "
      ],
      "execution_count": null,
      "outputs": [
        {
          "output_type": "stream",
          "name": "stdout",
          "text": [
            "2\n",
            "3\n",
            "8\n"
          ]
        }
      ]
    },
    {
      "cell_type": "code",
      "metadata": {
        "id": "cDUO6JMgjRVO",
        "colab": {
          "base_uri": "https://localhost:8080/"
        },
        "outputId": "3511beb3-4605-465c-c581-31192aaf9fe3"
      },
      "source": [
        "print(10>9)\n"
      ],
      "execution_count": null,
      "outputs": [
        {
          "output_type": "stream",
          "name": "stdout",
          "text": [
            "True\n"
          ]
        }
      ]
    }
  ]
}
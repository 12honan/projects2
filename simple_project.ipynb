{
  "nbformat": 4,
  "nbformat_minor": 0,
  "metadata": {
    "colab": {
      "name": "simple_project.ipynb",
      "provenance": [],
      "collapsed_sections": [],
      "authorship_tag": "ABX9TyNnSniVQzl6kGHnPZt7K+Pf",
      "include_colab_link": true
    },
    "kernelspec": {
      "name": "python3",
      "display_name": "Python 3"
    },
    "language_info": {
      "name": "python"
    }
  },
  "cells": [
    {
      "cell_type": "markdown",
      "metadata": {
        "id": "view-in-github",
        "colab_type": "text"
      },
      "source": [
        "<a href=\"https://colab.research.google.com/github/12honan/projects2/blob/main/simple_project.ipynb\" target=\"_parent\"><img src=\"https://colab.research.google.com/assets/colab-badge.svg\" alt=\"Open In Colab\"/></a>"
      ]
    },
    {
      "cell_type": "code",
      "execution_count": null,
      "metadata": {
        "id": "aWiHNMB6krPM",
        "colab": {
          "base_uri": "https://localhost:8080/"
        },
        "outputId": "9d9dc170-a453-4d98-d950-71691df1a2f4"
      },
      "outputs": [
        {
          "output_type": "stream",
          "name": "stdout",
          "text": [
            "1 \n",
            "1 2 \n",
            "1 2 3 \n",
            "1 2 3 4 \n",
            "1 2 3 4 5 \n"
          ]
        }
      ],
      "source": [
        "row = 1\n",
        "while row <= 5:\n",
        "  col = 1\n",
        "  while col <= row:\n",
        "    print(col, end=\" \")\n",
        "    col +=1\n",
        "  row += 1\n",
        "  print()"
      ]
    },
    {
      "cell_type": "code",
      "source": [
        "names = [\"Harvy\", \"BOSS\"]\n",
        "ayy = [\"gwapo\",\"Plok plok\"]\n",
        "for name in names:\n",
        "    for a in ayy:\n",
        "      i = 0\n",
        "    while i <=3:\n",
        "        print(name,a, end=\" \")\n",
        "        i = i + 2\n",
        "    print()"
      ],
      "metadata": {
        "colab": {
          "base_uri": "https://localhost:8080/"
        },
        "id": "HqE-1wW25Xtp",
        "outputId": "dee71e69-8da3-4cca-aadf-60d3eb9f3e9a"
      },
      "execution_count": null,
      "outputs": [
        {
          "output_type": "stream",
          "name": "stdout",
          "text": [
            "Harvy Plok plok Harvy Plok plok \n",
            "BOSS Plok plok BOSS Plok plok \n"
          ]
        }
      ]
    },
    {
      "cell_type": "code",
      "source": [
        "names = [\"Red\", \"maroon\"]\n",
        "ayy = [\"Cherry\",\"Raspberrie\"]\n",
        "for q in names:\n",
        "  for s in ayy:\n",
        "    u = 1\n",
        "    while u <=2:\n",
        "      print(q,s, )\n",
        "      u = u+1\n"
      ],
      "metadata": {
        "colab": {
          "base_uri": "https://localhost:8080/"
        },
        "id": "9P5vWyZzBaxX",
        "outputId": "e6558286-a773-4a72-9ac2-7d30422b25f5"
      },
      "execution_count": null,
      "outputs": [
        {
          "output_type": "stream",
          "name": "stdout",
          "text": [
            "Red Cherry\n",
            "Red Cherry\n",
            "Red Raspberrie\n",
            "Red Raspberrie\n",
            "maroon Cherry\n",
            "maroon Cherry\n",
            "maroon Raspberrie\n",
            "maroon Raspberrie\n"
          ]
        }
      ]
    },
    {
      "cell_type": "code",
      "source": [
        "# outer loop\n",
        "for i in range(5):\n",
        "    # nested loop\n",
        "    # to iterate from 1 to 10\n",
        "    for j in range(5):\n",
        "        # print multiplication\n",
        "        print(i + j, end=' ')\n",
        "    print()"
      ],
      "metadata": {
        "colab": {
          "base_uri": "https://localhost:8080/"
        },
        "id": "O_D5mmgyFReM",
        "outputId": "cc13c2ad-85a6-4356-f642-6381fd38aca3"
      },
      "execution_count": null,
      "outputs": [
        {
          "output_type": "stream",
          "name": "stdout",
          "text": [
            "0 1 2 3 4 \n",
            "1 2 3 4 5 \n",
            "2 3 4 5 6 \n",
            "3 4 5 6 7 \n",
            "4 5 6 7 8 \n"
          ]
        }
      ]
    },
    {
      "cell_type": "code",
      "source": [
        "# outer loop\n",
        "w = [\"1\",\"0\"]\n",
        "for i in w:\n",
        "    # nested loop\n",
        "    # to iterate from 1 to 10\n",
        "    for j in w:\n",
        "        u = 1\n",
        "    while u <=10:\n",
        "      print(i + j, end=\" \")\n",
        "      u = u+1\n",
        "    print()\n",
        "        # print multiplication\n"
      ],
      "metadata": {
        "colab": {
          "base_uri": "https://localhost:8080/"
        },
        "id": "DBXOXVM3GtRH",
        "outputId": "8bea0633-cdec-4af7-e90a-359defa98f90"
      },
      "execution_count": null,
      "outputs": [
        {
          "output_type": "stream",
          "name": "stdout",
          "text": [
            "10 10 10 10 10 10 10 10 10 10 \n",
            "00 00 00 00 00 00 00 00 00 00 \n"
          ]
        }
      ]
    },
    {
      "cell_type": "code",
      "source": [
        "import numpy\n",
        "m = numpy.ones((3,5),dtype='int')\n",
        "for row in m:\n",
        "  print(row)"
      ],
      "metadata": {
        "colab": {
          "base_uri": "https://localhost:8080/"
        },
        "id": "nCbYZP0hQjjQ",
        "outputId": "ddf089f9-0f2f-4dfa-9820-b92fc0835707"
      },
      "execution_count": null,
      "outputs": [
        {
          "output_type": "stream",
          "name": "stdout",
          "text": [
            "[1 1 1 1 1]\n",
            "[1 1 1 1 1]\n",
            "[1 1 1 1 1]\n"
          ]
        }
      ]
    },
    {
      "cell_type": "code",
      "source": [
        "array = np.random.randint(0, 10, size = (3,4,5))\n",
        "array.shape\n",
        "(3, 4, 5)\n",
        "array\n",
        "array([[[8, 8, 0, 6, 0],\n",
        "        [9, 4, 6, 6, 1],\n",
        "        [4, 3, 1, 3, 6],\n",
        "        [2, 4, 4, 3, 9]],\n",
        "\n",
        "       [[3, 5, 3, 9, 6],\n",
        "        [8, 0, 8, 5, 3],\n",
        "        [4, 8, 6, 2, 7],\n",
        "        [2, 7, 1, 8, 4]],\n",
        "\n",
        "       [[5, 7, 5, 6, 7],\n",
        "        [7, 4, 2, 7, 0],\n",
        "        [5, 6, 7, 9, 7],\n",
        "        [7, 2, 7, 7, 4]]])\n",
        "for elem in np.random.randiter(array):\n",
        "  print(elem, end=' ')\n"
      ],
      "metadata": {
        "colab": {
          "base_uri": "https://localhost:8080/",
          "height": 235
        },
        "id": "MrKv8r4URKmm",
        "outputId": "5677cb28-b8c4-45b5-9da1-78dd522d9490"
      },
      "execution_count": null,
      "outputs": [
        {
          "output_type": "error",
          "ename": "NameError",
          "evalue": "ignored",
          "traceback": [
            "\u001b[0;31m---------------------------------------------------------------------------\u001b[0m",
            "\u001b[0;31mNameError\u001b[0m                                 Traceback (most recent call last)",
            "\u001b[0;32m<ipython-input-7-20263259f158>\u001b[0m in \u001b[0;36m<module>\u001b[0;34m()\u001b[0m\n\u001b[0;32m----> 1\u001b[0;31m \u001b[0marray\u001b[0m \u001b[0;34m=\u001b[0m \u001b[0mnp\u001b[0m\u001b[0;34m.\u001b[0m\u001b[0mrandom\u001b[0m\u001b[0;34m.\u001b[0m\u001b[0mrandint\u001b[0m\u001b[0;34m(\u001b[0m\u001b[0;36m0\u001b[0m\u001b[0;34m,\u001b[0m \u001b[0;36m10\u001b[0m\u001b[0;34m,\u001b[0m \u001b[0msize\u001b[0m \u001b[0;34m=\u001b[0m \u001b[0;34m(\u001b[0m\u001b[0;36m3\u001b[0m\u001b[0;34m,\u001b[0m\u001b[0;36m4\u001b[0m\u001b[0;34m,\u001b[0m\u001b[0;36m5\u001b[0m\u001b[0;34m)\u001b[0m\u001b[0;34m)\u001b[0m\u001b[0;34m\u001b[0m\u001b[0;34m\u001b[0m\u001b[0m\n\u001b[0m\u001b[1;32m      2\u001b[0m \u001b[0marray\u001b[0m\u001b[0;34m.\u001b[0m\u001b[0mshape\u001b[0m\u001b[0;34m\u001b[0m\u001b[0;34m\u001b[0m\u001b[0m\n\u001b[1;32m      3\u001b[0m \u001b[0;34m(\u001b[0m\u001b[0;36m3\u001b[0m\u001b[0;34m,\u001b[0m \u001b[0;36m4\u001b[0m\u001b[0;34m,\u001b[0m \u001b[0;36m5\u001b[0m\u001b[0;34m)\u001b[0m\u001b[0;34m\u001b[0m\u001b[0;34m\u001b[0m\u001b[0m\n\u001b[1;32m      4\u001b[0m \u001b[0marray\u001b[0m\u001b[0;34m\u001b[0m\u001b[0;34m\u001b[0m\u001b[0m\n\u001b[1;32m      5\u001b[0m array([[[8, 8, 0, 6, 0],\n",
            "\u001b[0;31mNameError\u001b[0m: name 'np' is not defined"
          ]
        }
      ]
    },
    {
      "cell_type": "code",
      "source": [
        "12/12"
      ],
      "metadata": {
        "colab": {
          "base_uri": "https://localhost:8080/"
        },
        "id": "jGTo3Z7zZi2j",
        "outputId": "48e373cd-6535-4765-8a09-4ab3d121bce0"
      },
      "execution_count": null,
      "outputs": [
        {
          "output_type": "execute_result",
          "data": {
            "text/plain": [
              "1.0"
            ]
          },
          "metadata": {},
          "execution_count": 33
        }
      ]
    },
    {
      "cell_type": "code",
      "source": [
        "print(\"Instant Calculator\")\n",
        "print(\"\\n\")\n",
        "\n",
        "rept = \"yes\"\n",
        "while rept.lower() == \"yes\":\n",
        "\n",
        "#the user will choose what operator they will use\n",
        "  operator = input(\"PICK A LETTER FOR THE OPERATOR \\n A.Addition + \\n B.Subtraction -\\n C.Multiplication x\\n D.Division / \\n E.Modulo % \\n  >>>:  \")\n",
        "\n",
        "#input the numbers want to solve\n",
        "  num = int(input(\"Input the first number: \"))\n",
        "  num2 = int(input(\"Input the second number: \"))\n",
        "\n",
        "  if operator == 'A':\n",
        "    print(num, \"+\", num2, '=', num+num2)\n",
        "  elif operator == 'B':\n",
        "    print(num, \"-\", num2, '=', num-num2)\n",
        "  elif operator == 'C':\n",
        "    print(num, \"x\", num2, '=', num*num2)\n",
        "  elif operator == 'D':\n",
        "    print(num, \"÷\", num2, '=', num/num2)\n",
        "  elif operator == 'E':\n",
        "    print(num, \"&\", num2, '=', num%num2)\n",
        "  elif operator == \"D\":\n",
        "    if num == 0 or num2 == 0:\n",
        "      print(\">>>Invalid\")\n",
        "  else:\n",
        "    print(\">>> ERROR\")\n",
        "\n",
        "  print(\"\\n\")\n",
        "#loop if the user wants to calculate more\n",
        "#if the user choose no the loop will break\n",
        "  rept = input(\"do next calculation? yes or no: \")\n",
        "  print(\"\\n\")\n",
        "  if rept == \"no\":\n",
        "    break\n",
        "\n",
        "else :\n",
        "  print(\">>>> ERROR\")"
      ],
      "metadata": {
        "colab": {
          "base_uri": "https://localhost:8080/"
        },
        "id": "NCLqOac6bK5F",
        "outputId": "6ecb782a-39b3-4ef4-c54d-8ce34df97004"
      },
      "execution_count": 9,
      "outputs": [
        {
          "output_type": "stream",
          "name": "stdout",
          "text": [
            "Instant Calculator\n",
            "\n",
            "\n",
            "PICK A LETTER FOR THE OPERATOR \n",
            " A.Addition + \n",
            " B.Subtraction -\n",
            " C.Multiplication x\n",
            " D.Division / \n",
            " E.Modulo % \n",
            "  >>>:  D\n",
            "Input the first number: 123\n",
            "Input the second number: 2\n",
            "123 ÷ 2 = 61.5\n",
            "\n",
            "\n",
            "do next calculation? yes or no: yes\n",
            "\n",
            "\n",
            "PICK A LETTER FOR THE OPERATOR \n",
            " A.Addition + \n",
            " B.Subtraction -\n",
            " C.Multiplication x\n",
            " D.Division / \n",
            " E.Modulo % \n",
            "  >>>:  C\n",
            "Input the first number: 12\n",
            "Input the second number: 12\n",
            "12 x 12 = 144\n",
            "\n",
            "\n",
            "do next calculation? yes or no: a\n",
            "\n",
            "\n",
            ">>>> ERROR\n"
          ]
        }
      ]
    },
    {
      "cell_type": "code",
      "source": [
        "# Program make a simple calculator\n",
        "\n",
        "# This function adds two numbers\n",
        "def add(x, y):\n",
        "    return x + y\n",
        "\n",
        "# This function subtracts two numbers\n",
        "def subtract(x, y):\n",
        "    return x - y\n",
        "\n",
        "# This function multiplies two numbers\n",
        "def multiply(x, y):\n",
        "    return x * y\n",
        "\n",
        "# This function divides two numbers\n",
        "def divide(x, y):\n",
        "    return x / y\n",
        "\n",
        "\n",
        "print(\"Select operation.\")\n",
        "print(\"1.Add\")\n",
        "print(\"2.Subtract\")\n",
        "print(\"3.Multiply\")\n",
        "print(\"4.Divide\")\n",
        "\n",
        "while True:\n",
        "    # take input from the user\n",
        "    choice = input(\"Enter choice(1/2/3/4): \")\n",
        "\n",
        "    # check if choice is one of the four options\n",
        "    if choice in ('1', '2', '3', '4'):\n",
        "        num1 = float(input(\"Enter first number: \"))\n",
        "        num2 = float(input(\"Enter second number: \"))\n",
        "\n",
        "        if choice == '1':\n",
        "            print(num1, \"+\", num2, \"=\", add(num1, num2))\n",
        "\n",
        "        elif choice == '2':\n",
        "            print(num1, \"-\", num2, \"=\", subtract(num1, num2))\n",
        "\n",
        "        elif choice == '3':\n",
        "            print(num1, \"*\", num2, \"=\", multiply(num1, num2))\n",
        "\n",
        "        elif choice == '4':\n",
        "            print(num1, \"/\", num2, \"=\", divide(num1, num2))\n",
        "        \n",
        "        # check if user wants another calculation\n",
        "        # break the while loop if answer is no\n",
        "        next_calculation = input(\"Let's do next calculation? (yes/no): \")\n",
        "        if next_calculation == \"no\":\n",
        "          break\n",
        "    \n",
        "    else:\n",
        "        print(\"Invalid Input\")"
      ],
      "metadata": {
        "colab": {
          "base_uri": "https://localhost:8080/"
        },
        "id": "5CZum0Vq0s9H",
        "outputId": "426d7fde-68b3-4034-8fe4-03f69ae0358d"
      },
      "execution_count": null,
      "outputs": [
        {
          "name": "stdout",
          "output_type": "stream",
          "text": [
            "Select operation.\n",
            "1.Add\n",
            "2.Subtract\n",
            "3.Multiply\n",
            "4.Divide\n",
            "Enter choice(1/2/3/4): 1\n",
            "Enter first number: 1\n",
            "Enter second number: 1\n",
            "1.0 + 1.0 = 2.0\n",
            "Let's do next calculation? (yes/no): no\n"
          ]
        }
      ]
    },
    {
      "cell_type": "code",
      "source": [
        "cont = \"y\"\n",
        "while cont.lower() == \"y\":\n",
        "    print(\"Select operation\\n1.Add\\n2.Subtract\\n3.Multiply\\n4.Divide\")\n",
        "\n",
        "    choice = input(\"Enter choice(1/2/3/4):\")\n",
        "\n",
        "    num1 = int(input(\"Enter first number: \"))\n",
        "    num2 = int(input(\"Enter second number: \"))\n",
        "\n",
        "    if choice == '1':\n",
        "       print(num1,\"+\",num2,\"=\", (num1 + num2))\n",
        "\n",
        "    elif choice == '2':\n",
        "       print(num1,\"-\",num2,\"=\", (num1 - num2))\n",
        "\n",
        "    elif choice == '3':\n",
        "       print(num1,\"*\",num2,\"=\", (num1 * num2))\n",
        "\n",
        "    elif choice == '4':\n",
        "       print(num1,\"/\",num2,\"=\", (num1 / num2))\n",
        "    else:\n",
        "       print(\"Invalid input\")\n",
        "    cont = input(\"Continue?y/n:\")\n",
        "    if cont == \"n\":\n",
        "        break"
      ],
      "metadata": {
        "id": "nYh5lvB3JXv7"
      },
      "execution_count": null,
      "outputs": []
    }
  ]
}